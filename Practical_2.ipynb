{
 "cells": [
  {
   "cell_type": "code",
   "execution_count": 1,
   "id": "95497130-549d-46f9-948b-6450e95cb5bb",
   "metadata": {},
   "outputs": [],
   "source": [
    "import pandas as pd\n",
    "import numpy as np"
   ]
  },
  {
   "cell_type": "code",
   "execution_count": 2,
   "id": "ef537c48-29c0-47e2-81c0-7568b28faa32",
   "metadata": {},
   "outputs": [],
   "source": [
    "data = {\n",
    "    \"Name\": [\"Shubham\", \"Jay\", \"Swanand\", \"Vedant\", \"Pushkar\"],\n",
    "    \"Age\": [21 , 20 , 25 , 20 , 18 ],\n",
    "    \"Score\": [99 , 70 , 80 , 97 , 78]\n",
    "}\n",
    "df = pd.DataFrame(data)"
   ]
  },
  {
   "cell_type": "code",
   "execution_count": 3,
   "id": "529c3107-6d65-4ffc-9c4e-5155b0dd9c53",
   "metadata": {},
   "outputs": [
    {
     "name": "stdout",
     "output_type": "stream",
     "text": [
      "DataFrame:\n",
      "       Name  Age  Score\n",
      "0  Shubham   21     99\n",
      "1      Jay   20     70\n",
      "2  Swanand   25     80\n",
      "3   Vedant   20     97\n",
      "4  Pushkar   18     78\n"
     ]
    }
   ],
   "source": [
    "print(\"DataFrame:\\n\", df)"
   ]
  },
  {
   "cell_type": "code",
   "execution_count": 7,
   "id": "652f4a69-6044-4628-bbbc-442f35441431",
   "metadata": {},
   "outputs": [
    {
     "name": "stdout",
     "output_type": "stream",
     "text": [
      "\n",
      "Retreived Column - Age:\n",
      " 0    21\n",
      "1    20\n",
      "2    25\n",
      "3    20\n",
      "4    18\n",
      "Name: Age, dtype: int64\n"
     ]
    }
   ],
   "source": [
    "age_column = df[\"Age\"]\n",
    "print(\"\\nRetreived Column - Age:\\n\", age_column)"
   ]
  },
  {
   "cell_type": "code",
   "execution_count": 8,
   "id": "77992aaf-55c8-420e-afd3-d1cb85c868b2",
   "metadata": {},
   "outputs": [
    {
     "name": "stdout",
     "output_type": "stream",
     "text": [
      "\n",
      "Summary Statistics of DataFrame:\n",
      "              Age      Score\n",
      "count   5.000000   5.000000\n",
      "mean   20.800000  84.800000\n",
      "std     2.588436  12.637247\n",
      "min    18.000000  70.000000\n",
      "25%    20.000000  78.000000\n",
      "50%    20.000000  80.000000\n",
      "75%    21.000000  97.000000\n",
      "max    25.000000  99.000000\n"
     ]
    }
   ],
   "source": [
    "summary = df.describe()\n",
    "print(\"\\nSummary Statistics of DataFrame:\\n\", summary)"
   ]
  },
  {
   "cell_type": "code",
   "execution_count": 9,
   "id": "c8714fa4-31e4-4e86-98cd-a25eb12f4af1",
   "metadata": {},
   "outputs": [],
   "source": [
    "mean_values = df.select_dtypes(include=[np.number]).mean()\n",
    "std_values = df.select_dtypes(include=[np.number]).std()"
   ]
  },
  {
   "cell_type": "code",
   "execution_count": 10,
   "id": "684305ff-aab3-48ec-b9f6-93853855d7ae",
   "metadata": {},
   "outputs": [
    {
     "name": "stdout",
     "output_type": "stream",
     "text": [
      "\n",
      "Mean Values:\n",
      " Age      20.8\n",
      "Score    84.8\n",
      "dtype: float64\n",
      "\n",
      "Standard Deviation Values:\n",
      " Age       2.588436\n",
      "Score    12.637247\n",
      "dtype: float64\n"
     ]
    }
   ],
   "source": [
    "print(\"\\nMean Values:\\n\", mean_values)\n",
    "print(\"\\nStandard Deviation Values:\\n\", std_values)"
   ]
  },
  {
   "cell_type": "code",
   "execution_count": null,
   "id": "b50a2c6f-3aeb-4904-ac26-85b8ade91de6",
   "metadata": {},
   "outputs": [],
   "source": []
  }
 ],
 "metadata": {
  "kernelspec": {
   "display_name": "Python 3 (ipykernel)",
   "language": "python",
   "name": "python3"
  },
  "language_info": {
   "codemirror_mode": {
    "name": "ipython",
    "version": 3
   },
   "file_extension": ".py",
   "mimetype": "text/x-python",
   "name": "python",
   "nbconvert_exporter": "python",
   "pygments_lexer": "ipython3",
   "version": "3.12.1"
  }
 },
 "nbformat": 4,
 "nbformat_minor": 5
}
