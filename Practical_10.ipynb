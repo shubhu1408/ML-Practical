{
 "cells": [
  {
   "cell_type": "code",
   "execution_count": 1,
   "id": "4472c1c1-afd4-4961-a168-02bd55c5a75e",
   "metadata": {},
   "outputs": [],
   "source": [
    "import numpy as np"
   ]
  },
  {
   "cell_type": "code",
   "execution_count": 2,
   "id": "f1c90938-0a3e-4fa6-b578-56407dc465de",
   "metadata": {},
   "outputs": [],
   "source": [
    "def sigmoid(x):\n",
    "    return 1 / (1 + np.exp(-x))"
   ]
  },
  {
   "cell_type": "code",
   "execution_count": 3,
   "id": "c30ce383-11b8-43be-be7a-be4e070da0b6",
   "metadata": {},
   "outputs": [],
   "source": [
    "def sigmoid_derivative(x):\n",
    "    return x * (1 - x)"
   ]
  },
  {
   "cell_type": "code",
   "execution_count": 4,
   "id": "1dbadec3-2a0c-4c35-99f1-455918317db5",
   "metadata": {},
   "outputs": [],
   "source": [
    "def binary_cross_entropy(y_true, y_pred):\n",
    "    return -np.mean(y_true * np.log(y_pred + 1e-7) + (1 - y_true) * np.log(1 - y_pred + 1e-7))"
   ]
  },
  {
   "cell_type": "code",
   "execution_count": 5,
   "id": "12c75d21-bc54-4268-81b8-6d8c03afc34f",
   "metadata": {},
   "outputs": [],
   "source": [
    "def train_neural_network(X, y, epochs=10000, lr=0.1):\n",
    "    input_dim = X.shape[1]\n",
    "    weights = np.random.uniform(size=(input_dim, 1))\n",
    "    bias = np.random.uniform(size=(1,))\n",
    "\n",
    "    for epoch in range(epochs):\n",
    "        linear_output = np.dot(X, weights) + bias\n",
    "        predictions = sigmoid(linear_output)\n",
    "\n",
    "        loss = binary_cross_entropy(y, predictions)\n",
    "\n",
    "        error = predictions - y\n",
    "        d_pred = error * sigmoid_derivative(predictions)\n",
    "\n",
    "        weights -= lr * np.dot(X.T, d_pred)\n",
    "        bias -= lr * np.sum(d_pred)\n",
    "\n",
    "        if epoch % 1000 == 0:\n",
    "            print(f\"Epoch {epoch}, Loss: {loss:.4f}\")\n",
    "    \n",
    "    return weights, bias"
   ]
  },
  {
   "cell_type": "code",
   "execution_count": 6,
   "id": "407b60c8-82b7-4b43-aca4-d8f4bfe8e4fe",
   "metadata": {},
   "outputs": [],
   "source": [
    "def predict(X, weights, bias):\n",
    "    return sigmoid(np.dot(X, weights) + bias) >= 0.5"
   ]
  },
  {
   "cell_type": "code",
   "execution_count": 7,
   "id": "a54b24de-4259-43ef-8ffa-d4fd27ef8119",
   "metadata": {},
   "outputs": [
    {
     "name": "stdout",
     "output_type": "stream",
     "text": [
      "\n",
      "Training for AND gate:\n",
      "Epoch 0, Loss: 0.8058\n",
      "Epoch 1000, Loss: 0.1752\n",
      "Epoch 2000, Loss: 0.1174\n",
      "Epoch 3000, Loss: 0.0923\n",
      "Epoch 4000, Loss: 0.0778\n",
      "Epoch 5000, Loss: 0.0683\n",
      "Epoch 6000, Loss: 0.0614\n",
      "Epoch 7000, Loss: 0.0561\n",
      "Epoch 8000, Loss: 0.0520\n",
      "Epoch 9000, Loss: 0.0486\n",
      "Predictions for AND gate:\n",
      "[0 0 0 1]\n",
      "\n",
      "Training for OR gate:\n",
      "Epoch 0, Loss: 0.4648\n",
      "Epoch 1000, Loss: 0.1254\n",
      "Epoch 2000, Loss: 0.0815\n",
      "Epoch 3000, Loss: 0.0636\n",
      "Epoch 4000, Loss: 0.0536\n",
      "Epoch 5000, Loss: 0.0470\n",
      "Epoch 6000, Loss: 0.0423\n",
      "Epoch 7000, Loss: 0.0387\n",
      "Epoch 8000, Loss: 0.0359\n",
      "Epoch 9000, Loss: 0.0336\n",
      "Predictions for OR gate:\n",
      "[0 1 1 1]\n",
      "\n",
      "Training for NAND gate:\n",
      "Epoch 0, Loss: 0.7677\n",
      "Epoch 1000, Loss: 0.1848\n",
      "Epoch 2000, Loss: 0.1208\n",
      "Epoch 3000, Loss: 0.0940\n",
      "Epoch 4000, Loss: 0.0789\n",
      "Epoch 5000, Loss: 0.0690\n",
      "Epoch 6000, Loss: 0.0619\n",
      "Epoch 7000, Loss: 0.0566\n",
      "Epoch 8000, Loss: 0.0523\n",
      "Epoch 9000, Loss: 0.0489\n",
      "Predictions for NAND gate:\n",
      "[1 1 1 0]\n",
      "\n",
      "Training for NOR gate:\n",
      "Epoch 0, Loss: 1.2981\n",
      "Epoch 1000, Loss: 0.1265\n",
      "Epoch 2000, Loss: 0.0818\n",
      "Epoch 3000, Loss: 0.0638\n",
      "Epoch 4000, Loss: 0.0537\n",
      "Epoch 5000, Loss: 0.0471\n",
      "Epoch 6000, Loss: 0.0424\n",
      "Epoch 7000, Loss: 0.0388\n",
      "Epoch 8000, Loss: 0.0360\n",
      "Epoch 9000, Loss: 0.0336\n",
      "Predictions for NOR gate:\n",
      "[1 0 0 0]\n",
      "\n",
      "Training for XOR gate:\n",
      "Epoch 0, Loss: 0.7686\n",
      "Epoch 1000, Loss: 0.6932\n",
      "Epoch 2000, Loss: 0.6931\n",
      "Epoch 3000, Loss: 0.6931\n",
      "Epoch 4000, Loss: 0.6931\n",
      "Epoch 5000, Loss: 0.6931\n",
      "Epoch 6000, Loss: 0.6931\n",
      "Epoch 7000, Loss: 0.6931\n",
      "Epoch 8000, Loss: 0.6931\n",
      "Epoch 9000, Loss: 0.6931\n",
      "Predictions for XOR gate:\n",
      "[1 1 1 1]\n"
     ]
    }
   ],
   "source": [
    "X = np.array([[0, 0], [0, 1], [1, 0], [1, 1]])\n",
    "\n",
    "logic_gates = {\n",
    "    \"AND\": np.array([[0], [0], [0], [1]]),\n",
    "    \"OR\": np.array([[0], [1], [1], [1]]),\n",
    "    \"NAND\": np.array([[1], [1], [1], [0]]),\n",
    "    \"NOR\": np.array([[1], [0], [0], [0]]),\n",
    "    \"XOR\": np.array([[0], [1], [1], [0]])\n",
    "}\n",
    "\n",
    "for gate_name, y in logic_gates.items():\n",
    "    print(f\"\\nTraining for {gate_name} gate:\")\n",
    "    weights, bias = train_neural_network(X, y, epochs=10000, lr=0.1)\n",
    "    predictions = predict(X, weights, bias).astype(int)\n",
    "    print(f\"Predictions for {gate_name} gate:\\n{predictions.reshape(-1)}\")"
   ]
  },
  {
   "cell_type": "code",
   "execution_count": null,
   "id": "6831af32-c4c8-44a3-8318-70a69cf3a362",
   "metadata": {},
   "outputs": [],
   "source": []
  }
 ],
 "metadata": {
  "kernelspec": {
   "display_name": "Python 3 (ipykernel)",
   "language": "python",
   "name": "python3"
  },
  "language_info": {
   "codemirror_mode": {
    "name": "ipython",
    "version": 3
   },
   "file_extension": ".py",
   "mimetype": "text/x-python",
   "name": "python",
   "nbconvert_exporter": "python",
   "pygments_lexer": "ipython3",
   "version": "3.12.1"
  }
 },
 "nbformat": 4,
 "nbformat_minor": 5
}
