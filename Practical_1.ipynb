{
 "cells": [
  {
   "cell_type": "code",
   "execution_count": 1,
   "id": "fd9abb0d-9254-4b87-80e8-c58a73286e23",
   "metadata": {},
   "outputs": [],
   "source": [
    "def calculate_mean(numbers):\n",
    "    return sum(numbers) / len(numbers)"
   ]
  },
  {
   "cell_type": "code",
   "execution_count": 2,
   "id": "73d2990b-4106-4bbd-9e91-3276f2a24f1e",
   "metadata": {},
   "outputs": [],
   "source": [
    "def calculate_median(numbers):\n",
    "    numbers.sort()\n",
    "    n = len(numbers)\n",
    "    middle = n // 2\n",
    "    return (numbers[middle - 1] + numbers[middle]) / 2 if n % 2 == 0 else numbers[middle]"
   ]
  },
  {
   "cell_type": "code",
   "execution_count": 3,
   "id": "da681994-db3f-4746-8e95-d4e5f62fd21d",
   "metadata": {},
   "outputs": [],
   "source": [
    "def calculate_standard_deviation(numbers):\n",
    "    mean = calculate_mean(numbers)\n",
    "    variance = sum((x - mean) ** 2 for x in numbers) / len(numbers)\n",
    "    return variance ** 0.5"
   ]
  },
  {
   "cell_type": "code",
   "execution_count": 4,
   "id": "07282e00-561a-44b9-b7c4-2c3f6a5e261c",
   "metadata": {},
   "outputs": [],
   "source": [
    "def calculate_mode(numbers):\n",
    "    from collections import Counter\n",
    "    frequency = Counter(numbers)\n",
    "    max_count = max(frequency.values())\n",
    "    return [key for key, value in frequency.items() if value == max_count]"
   ]
  },
  {
   "cell_type": "code",
   "execution_count": 7,
   "id": "94197c2a-50ee-42ca-a0d6-a0c5555d58f8",
   "metadata": {},
   "outputs": [
    {
     "name": "stdin",
     "output_type": "stream",
     "text": [
      "Enter numbers separated by spaces:  8 3 2 4 7 9 5\n"
     ]
    }
   ],
   "source": [
    "numbers = list(map(int, input(\"Enter numbers separated by spaces: \").split()))"
   ]
  },
  {
   "cell_type": "code",
   "execution_count": 8,
   "id": "337ac9e4-4142-4e5a-ba5f-06060c931e4f",
   "metadata": {},
   "outputs": [
    {
     "name": "stdout",
     "output_type": "stream",
     "text": [
      "Mean:5.428571428571429\n",
      "Median:5\n",
      "Standard Deviation:2.4411439272335804\n",
      "Mode:[2, 3, 4, 5, 7, 8, 9]\n"
     ]
    }
   ],
   "source": [
    "print(f\"Mean:{calculate_mean(numbers)}\")\n",
    "print(f\"Median:{calculate_median(numbers)}\")\n",
    "print(f\"Standard Deviation:{calculate_standard_deviation(numbers)}\")\n",
    "print(f\"Mode:{calculate_mode(numbers)}\")"
   ]
  },
  {
   "cell_type": "code",
   "execution_count": null,
   "id": "e97d8ab2-07e7-46e6-a371-9d39919372b2",
   "metadata": {},
   "outputs": [],
   "source": []
  }
 ],
 "metadata": {
  "kernelspec": {
   "display_name": "Python 3 (ipykernel)",
   "language": "python",
   "name": "python3"
  },
  "language_info": {
   "codemirror_mode": {
    "name": "ipython",
    "version": 3
   },
   "file_extension": ".py",
   "mimetype": "text/x-python",
   "name": "python",
   "nbconvert_exporter": "python",
   "pygments_lexer": "ipython3",
   "version": "3.12.1"
  }
 },
 "nbformat": 4,
 "nbformat_minor": 5
}
