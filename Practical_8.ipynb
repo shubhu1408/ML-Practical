{
 "cells": [
  {
   "cell_type": "code",
   "execution_count": 1,
   "id": "a5e8d558-e3fd-45ef-a79e-10865f5a6ab7",
   "metadata": {},
   "outputs": [],
   "source": [
    "import pandas as pd\n",
    "import numpy as np\n",
    "from math import log2\n",
    "import pprint"
   ]
  },
  {
   "cell_type": "code",
   "execution_count": 2,
   "id": "a5f37df4-73d3-4c81-abad-6d31465a767c",
   "metadata": {},
   "outputs": [],
   "source": [
    "data = pd.DataFrame([\n",
    "    ['Sunny', 'Hot', 'High', 'Weak', 'No'],\n",
    "    ['Sunny', 'Hot', 'High', 'Strong', 'No'],\n",
    "    ['Overcast', 'Hot', 'High', 'Weak', 'Yes'],\n",
    "    ['Rain', 'Mild', 'High', 'Weak', 'Yes'],\n",
    "    ['Rain', 'Cool', 'Normal', 'Strong', 'Yes'],\n",
    "    ['Overcast', 'Cool', 'Normal', 'Strong', 'Yes'],\n",
    "    ['Sunny', 'Mild', 'High', 'Weak', 'No'],\n",
    "    ['Sunny', 'Cool', 'Normal', 'Weak', 'Yes'],\n",
    "    ['Rain', 'Mild', 'Normal', 'Weak', 'Yes'],\n",
    "    ['Sunny', 'Mild', 'Normal', 'Strong', 'Yes'],\n",
    "    ['Overcast', 'Mild', 'High', 'Strong', 'Yes'],\n",
    "    ['Overcast', 'Hot', 'Normal', 'Weak', 'Yes'],\n",
    "    ['Rain', 'Mild', 'High', 'Strong', 'No']\n",
    "], columns=['Outlook', 'Temperature', 'Humidity', 'Wind', 'PlayTennis'])"
   ]
  },
  {
   "cell_type": "code",
   "execution_count": 3,
   "id": "52fca3cb-304e-449f-8475-2031e6f9bc10",
   "metadata": {},
   "outputs": [],
   "source": [
    "def entropy(target_col):\n",
    "    values, counts = np.unique(target_col, return_counts=True)\n",
    "    entropy = sum([-p * log2(p) for p in counts / counts.sum()])\n",
    "    return entropy"
   ]
  },
  {
   "cell_type": "code",
   "execution_count": 4,
   "id": "181088fc-d194-4632-a947-975d1c09fe30",
   "metadata": {},
   "outputs": [],
   "source": [
    "def info_gain(data, split_attribute_name, target_name=\"PlayTennis\"):\n",
    "    total_entropy = entropy(data[target_name])\n",
    "    vals, counts = np.unique(data[split_attribute_name], return_counts=True)\n",
    "    \n",
    "    weighted_entropy = sum((counts[i] / sum(counts)) * \n",
    "                           entropy(data[data[split_attribute_name] == vals[i]][target_name]) \n",
    "                           for i in range(len(vals)))\n",
    "    \n",
    "    information_gain = total_entropy - weighted_entropy\n",
    "    return information_gain"
   ]
  },
  {
   "cell_type": "code",
   "execution_count": 5,
   "id": "966087f7-7a9c-47d0-be86-9439d335b19a",
   "metadata": {},
   "outputs": [],
   "source": [
    "def ID3(data, original_data, features, target_attribute_name=\"PlayTennis\", parent_node_class=None):\n",
    "    if len(np.unique(data[target_attribute_name])) <= 1:\n",
    "        return np.unique(data[target_attribute_name])[0]\n",
    "    \n",
    "    elif len(data) == 0:\n",
    "        return np.unique(original_data[target_attribute_name])[np.argmax(\n",
    "            np.unique(original_data[target_attribute_name], return_counts=True)[1])]\n",
    "    \n",
    "    elif len(features) == 0:\n",
    "        return parent_node_class\n",
    "    \n",
    "    else:\n",
    "        parent_node_class = np.unique(data[target_attribute_name])[np.argmax(\n",
    "            np.unique(data[target_attribute_name], return_counts=True)[1])]\n",
    "        \n",
    "        item_values = [info_gain(data, feature, target_attribute_name) for feature in features]\n",
    "        best_feature_index = np.argmax(item_values)\n",
    "        best_feature = features[best_feature_index]\n",
    "\n",
    "        tree = {best_feature: {}}\n",
    "        \n",
    "        for value in np.unique(data[best_feature]):\n",
    "            sub_data = data[data[best_feature] == value]\n",
    "            new_features = features[:best_feature_index] + features[best_feature_index + 1:]\n",
    "            subtree = ID3(sub_data, original_data, new_features, target_attribute_name, parent_node_class)\n",
    "            tree[best_feature][value] = subtree\n",
    "\n",
    "        return tree"
   ]
  },
  {
   "cell_type": "code",
   "execution_count": 6,
   "id": "5e4e5fa5-a1bc-41d7-94c5-767746ff8326",
   "metadata": {},
   "outputs": [],
   "source": [
    "features = list(data.columns)\n",
    "features.remove(\"PlayTennis\")\n",
    "tree = ID3(data, data, features)"
   ]
  },
  {
   "cell_type": "code",
   "execution_count": 7,
   "id": "b501218a-1273-4156-b4e0-4538fc9c7c9e",
   "metadata": {},
   "outputs": [
    {
     "name": "stdout",
     "output_type": "stream",
     "text": [
      "{'Humidity': {'High': {'Outlook': {'Overcast': 'Yes',\n",
      "                                   'Rain': {'Wind': {'Strong': 'No',\n",
      "                                                     'Weak': 'Yes'}},\n",
      "                                   'Sunny': 'No'}},\n",
      "              'Normal': 'Yes'}}\n"
     ]
    }
   ],
   "source": [
    "import pprint\n",
    "pprint.pprint(tree)"
   ]
  },
  {
   "cell_type": "code",
   "execution_count": 8,
   "id": "8ac93977-9854-4d98-93d0-95d6fa9ef2d3",
   "metadata": {},
   "outputs": [],
   "source": [
    "def predict(query, tree, default='Yes'):\n",
    "    for attr in query:\n",
    "        if attr in tree:\n",
    "            try:\n",
    "                result = tree[attr][query[attr]]\n",
    "            except:\n",
    "                return default\n",
    "\n",
    "            if isinstance(result, dict):\n",
    "                return predict(query, result)\n",
    "            else:\n",
    "                return result\n",
    "    return default"
   ]
  },
  {
   "cell_type": "code",
   "execution_count": 9,
   "id": "e17397ad-e155-4de1-8251-d7947c80b79b",
   "metadata": {},
   "outputs": [
    {
     "name": "stdout",
     "output_type": "stream",
     "text": [
      "\n",
      "Predicted Output for sample is: No\n"
     ]
    }
   ],
   "source": [
    "sample = {'Outlook': 'Sunny', 'Temperature': 'Cool', 'Humidity': 'High', 'Wind': 'Strong'}\n",
    "prediction = predict(sample, tree)\n",
    "print(\"\\nPredicted Output for sample is:\", prediction)"
   ]
  },
  {
   "cell_type": "code",
   "execution_count": null,
   "id": "759fd4a0-7541-4a88-b548-88cc89277ad7",
   "metadata": {},
   "outputs": [],
   "source": []
  }
 ],
 "metadata": {
  "kernelspec": {
   "display_name": "Python 3 (ipykernel)",
   "language": "python",
   "name": "python3"
  },
  "language_info": {
   "codemirror_mode": {
    "name": "ipython",
    "version": 3
   },
   "file_extension": ".py",
   "mimetype": "text/x-python",
   "name": "python",
   "nbconvert_exporter": "python",
   "pygments_lexer": "ipython3",
   "version": "3.12.1"
  }
 },
 "nbformat": 4,
 "nbformat_minor": 5
}
